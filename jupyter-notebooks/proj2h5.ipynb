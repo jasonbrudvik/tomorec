{
 "cells": [
  {
   "cell_type": "markdown",
   "metadata": {},
   "source": [
    "# Conversion of tif files to HDF5 file"
   ]
  },
  {
   "cell_type": "code",
   "execution_count": 1,
   "metadata": {},
   "outputs": [],
   "source": [
    "# Import necessary modules - need to use the \"Tomorec Kernel\"\n",
    "import dxchange\n",
    "import numpy as np\n",
    "import h5py"
   ]
  },
  {
   "cell_type": "code",
   "execution_count": 2,
   "metadata": {},
   "outputs": [],
   "source": [
    "# Create a directory into which the \"wget\" command will be run, and place that \n",
    "# directory name here:\n",
    "dirname = '../data/'\n",
    "\n",
    "# Go into that directory and run:\n",
    "#   wget -m -np https://doi2.psi.ch/datasets/sls/X02DA/Data10/e17068/disk1/h11913_4_3_/tif\n",
    "# After waiting 5 to 6 hours, the following directory structure will exist, where the\n",
    "# \"tif\" directory will contain 2031 .tif files start with names that follow the \n",
    "# pattern \"h11913_4_3_xxxx.tif\"\n",
    "doipath = 'doi2.psi.ch/datasets/sls/X02DA/Data10/e17068/disk1/h11913_4_3_/tif/'\n",
    "\n",
    "# For this conversion script, the beginning of the file names are needed.\n",
    "fname = dirname + doipath + 'h11913_4_3_'\n",
    "\n",
    "# Specify where to write the output HDF5 file. Make sure atleast 16 GB of space \n",
    "# is available where this will be written.\n",
    "foutname = dirname + 'hdf5-conversion/h11913_4_3.h5'"
   ]
  },
  {
   "cell_type": "code",
   "execution_count": 3,
   "metadata": {},
   "outputs": [],
   "source": [
    "# Setup for the conversion\n",
    "size_proj = [1801, 1562, 2560]\n",
    "size_flat = [100, 1562, 2560]\n",
    "size_dark = [30, 1562, 2560]\n",
    "sproj = 128 # number of slices that fit to operating memory"
   ]
  },
  {
   "cell_type": "code",
   "execution_count": 4,
   "metadata": {},
   "outputs": [],
   "source": [
    "# Create the output file in the location specified above\n",
    "fid = h5py.File(foutname, mode='w')\n",
    "\n",
    "# Create the structure within the file\n",
    "projh5 = fid.create_dataset('exchange/data', size_proj, dtype='uint16')\n",
    "flath5 = fid.create_dataset('exchange/data_flat', size_flat, dtype='uint16')\n",
    "darkh5 = fid.create_dataset('exchange/data_dark', size_dark, dtype='uint16')"
   ]
  },
  {
   "cell_type": "code",
   "execution_count": 5,
   "metadata": {},
   "outputs": [
    {
     "name": "stderr",
     "output_type": "stream",
     "text": [
      "/home/jasbru/.conda/envs/tomorec-kernel-environment/lib/python3.7/site-packages/ipykernel_launcher.py:3: DeprecationWarning: `np.int` is a deprecated alias for the builtin `int`. To silence this warning, use `int` by itself. Doing this will not modify any behavior and is safe. When replacing `np.int`, you may wish to use e.g. `np.int64` or `np.int32` to specify the precision. If you wish to review your current use, check the release note link for additional information.\n",
      "Deprecated in NumPy 1.20; for more details and guidance: https://numpy.org/devdocs/release/1.20.0-notes.html#deprecations\n",
      "  This is separate from the ipykernel package so we can avoid doing imports until\n"
     ]
    },
    {
     "name": "stdout",
     "output_type": "stream",
     "text": [
      "converting slices 0 .. 128\n",
      "converting slices 128 .. 256\n",
      "converting slices 256 .. 384\n",
      "converting slices 384 .. 512\n",
      "converting slices 512 .. 640\n",
      "converting slices 640 .. 768\n",
      "converting slices 768 .. 896\n",
      "converting slices 896 .. 1024\n",
      "converting slices 1024 .. 1152\n",
      "converting slices 1152 .. 1280\n",
      "converting slices 1280 .. 1408\n",
      "converting slices 1408 .. 1536\n",
      "converting slices 1536 .. 1562\n"
     ]
    }
   ],
   "source": [
    "# Loop over the .tif image files, write to the HDF5 output file\n",
    "# This should take 5 to 10 mintues\n",
    "for k in range(0, np.int(np.ceil(size_proj[1] / sproj))):\n",
    "   start = k*sproj\n",
    "   end = min((k + 1) * sproj, size_proj[1])\n",
    "   print(\"converting slices %d .. %d\" % (start, end))\n",
    "   proj, flat, dark = dxchange.read_sls_tomcat(fname, sino=(start, end))\n",
    "   projh5[:, start:end, :] = proj\n",
    "   flath5[:, start:end, :] = flat\n",
    "   darkh5[:, start:end, :] = dark\n",
    "\n",
    "fid.close()"
   ]
  },
  {
   "cell_type": "code",
   "execution_count": null,
   "metadata": {},
   "outputs": [],
   "source": []
  },
  {
   "cell_type": "code",
   "execution_count": null,
   "metadata": {},
   "outputs": [],
   "source": []
  }
 ],
 "metadata": {
  "kernelspec": {
   "display_name": "Tomorec Kernel",
   "language": "python",
   "name": "tomorec-kernel"
  },
  "language_info": {
   "codemirror_mode": {
    "name": "ipython",
    "version": 3
   },
   "file_extension": ".py",
   "mimetype": "text/x-python",
   "name": "python",
   "nbconvert_exporter": "python",
   "pygments_lexer": "ipython3",
   "version": "3.7.6"
  }
 },
 "nbformat": 4,
 "nbformat_minor": 4
}
